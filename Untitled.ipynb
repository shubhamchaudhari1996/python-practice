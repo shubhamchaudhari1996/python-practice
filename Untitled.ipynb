{
 "cells": [
  {
   "cell_type": "code",
   "execution_count": 190,
   "metadata": {},
   "outputs": [
    {
     "name": "stdout",
     "output_type": "stream",
     "text": [
      "Enter employee name: ABC\n",
      "Enter employee number: 123AB\n",
      "Enter week ending (DD/MM/YYYY): 21/02/2021\n",
      "Number of hours worked: 42.5\n",
      "Number of overtime hours worked: 5\n",
      "Enter hourly rate: 10.50\n",
      "Enter Standard Tax Rate: 20\n",
      "Enter Overtime Tax Rate: 50\n"
     ]
    }
   ],
   "source": [
    "emp_name = str(input(\"Enter employee name: \"))\n",
    "emp_number = str(input(\"Enter employee number: \"))\n",
    "week_end = str(input(\"Enter week ending (DD/MM/YYYY): \"))\n",
    "hours_worked = float(input(\"Number of hours worked: \"))\n",
    "overtime_hours_worked = float(input(\"Number of overtime hours worked: \"))\n",
    "hourly_rate = float(input(\"Enter hourly rate: \"))\n",
    "standard_taxrate = int(input(\"Enter Standard Tax Rate: \"))\n",
    "overtime_taxrate = int(input(\"Enter Overtime Tax Rate: \"))"
   ]
  },
  {
   "cell_type": "code",
   "execution_count": 191,
   "metadata": {},
   "outputs": [],
   "source": [
    "overtime_rate = hourly_rate * 1.5\n",
    "total_pay = hours_worked * hourly_rate\n",
    "tax_20 = (total_pay/100)*standard_taxrate\n",
    "overtime_totalpay = overtime_hours_worked * overtime_rate\n",
    "tax_50 = (overtime_totalpay/100)*overtime_taxrate\n",
    "total = total_pay + overtime_totalpay\n",
    "total_deduction = tax_20 + tax_50\n",
    "net_pay = total - total_deduction"
   ]
  },
  {
   "cell_type": "code",
   "execution_count": 192,
   "metadata": {},
   "outputs": [
    {
     "name": "stdout",
     "output_type": "stream",
     "text": [
      "                                              PAYSLIP                                               \n",
      "WEEK ENDING 21/02/2021\n",
      "Employee: ABC\n",
      "Employee Number: 123AB\n",
      "                      Earnings                       Deductions\n",
      "                      Hours       Rate Total                        \n",
      "Hours (normal)        42.5        10.5 446.25        Tax @ 20%  89.25\n",
      "Hours (overtime)       5.0        15.75 78.75        Tax @ 50%  39.375\n",
      "\n",
      "\n",
      "                     Total pay:                                  525.0            \n",
      "                     Total deductions:                           128.625    \n",
      "                     Total pay:                                  396.375             \n"
     ]
    }
   ],
   "source": [
    "print(\"PAYSLIP\".center(100))\n",
    "print(\"WEEK ENDING\", week_end)\n",
    "print(\"Employee:\",emp_name)\n",
    "print(\"Employee Number:\",emp_number)\n",
    "print(\"Earnings\".center(52),\"Deductions\")\n",
    "print(\"Hours       Rate Total  \".center(68))\n",
    "print(\"Hours (normal)\",'{:^18}'.format(str(hours_worked)),hourly_rate,total_pay,\"       Tax @ 20% \",tax_20)\n",
    "print(\"Hours (overtime)\",'{:^16}'.format(str(overtime_hours_worked)),overtime_rate,overtime_totalpay,\"       Tax @ 50% \",tax_50)\n",
    "print(\"\\n\")\n",
    "print(\"Total pay:\".center(52),str(total).center(29))\n",
    "print(\"Total deductions: \".center(60),str(total_deduction).center(15))\n",
    "print(\"Total pay:\".center(52),str(net_pay).center(32))"
   ]
  },
  {
   "cell_type": "code",
   "execution_count": null,
   "metadata": {},
   "outputs": [],
   "source": []
  }
 ],
 "metadata": {
  "kernelspec": {
   "display_name": "Python 3",
   "language": "python",
   "name": "python3"
  },
  "language_info": {
   "codemirror_mode": {
    "name": "ipython",
    "version": 3
   },
   "file_extension": ".py",
   "mimetype": "text/x-python",
   "name": "python",
   "nbconvert_exporter": "python",
   "pygments_lexer": "ipython3",
   "version": "3.8.5"
  }
 },
 "nbformat": 4,
 "nbformat_minor": 4
}
