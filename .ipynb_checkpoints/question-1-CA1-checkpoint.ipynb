{
 "cells": [
  {
   "cell_type": "code",
   "execution_count": 196,
   "metadata": {},
   "outputs": [
    {
     "name": "stdout",
     "output_type": "stream",
     "text": [
      "Enter employee name: ABC\n",
      "Enter employee number: 1254\n",
      "Enter week ending (DD/MM/YYYY): 21/2/2021\n",
      "Number of hours worked: 45\n",
      "Number of overtime hours worked: 7\n",
      "Enter hourly rate: 10.25\n",
      "Enter Standard Tax Rate: 20\n",
      "Enter Overtime Tax Rate: 40\n"
     ]
    }
   ],
   "source": [
    "# Enter Payslip Details\n",
    "\n",
    "emp_name = str(input(\"Enter employee name: \"))\n",
    "emp_number = str(input(\"Enter employee number: \"))\n",
    "week_end = str(input(\"Enter week ending (DD/MM/YYYY): \"))\n",
    "hours_worked = float(input(\"Number of hours worked: \"))\n",
    "overtime_hours_worked = float(input(\"Number of overtime hours worked: \"))\n",
    "hourly_rate = float(input(\"Enter hourly rate: \"))\n",
    "standard_taxrate = int(input(\"Enter Standard Tax Rate: \"))\n",
    "overtime_taxrate = int(input(\"Enter Overtime Tax Rate: \"))"
   ]
  },
  {
   "cell_type": "code",
   "execution_count": 199,
   "metadata": {},
   "outputs": [],
   "source": [
    "# afafa\n",
    "overtime_rate = hourly_rate * 1.5\n",
    "\n",
    "# azfaaf\n",
    "total_pay = hours_worked * hourly_rate\n",
    "\n",
    "#zdfvsdgs\n",
    "tax_20 = round((total_pay/100)*standard_taxrate,2)\n",
    "\n",
    "# zdfdadfa\n",
    "overtime_totalpay = overtime_hours_worked * overtime_rate\n",
    "\n",
    "# dsfsxgg\n",
    "tax_50 = round((overtime_totalpay/100)*overtime_taxrate,2)\n",
    "\n",
    "# sdfsfsf\n",
    "total = round(total_pay + overtime_totalpay, 2)\n",
    "\n",
    "# dgfsdsgg\n",
    "total_deduction = round(tax_20 + tax_50,3)\n",
    "\n",
    "# sdgsgsg\n",
    "net_pay = round(total - total_deduction,3)"
   ]
  },
  {
   "cell_type": "code",
   "execution_count": 201,
   "metadata": {},
   "outputs": [
    {
     "name": "stdout",
     "output_type": "stream",
     "text": [
      "                                              PAYSLIP                                               \n",
      "WEEK ENDING 21/2/2021\n",
      "Employee: ABC\n",
      "Employee Number: 1254\n",
      "                      Earnings                       Deductions\n",
      "                      Hours       Rate Total                        \n",
      "Hours (normal)        45.0        10.25 461.25        Tax @ 20%  92.25\n",
      "Hours (overtime)       7.0        15.38 107.62        Tax @ 50%  43.05\n",
      "\n",
      "\n",
      "                     Total pay:                                  568.88           \n",
      "                     Total deductions:                            135.3     \n",
      "                     Total pay:                                   433.58             \n"
     ]
    }
   ],
   "source": [
    "# Printing final output\n",
    "\n",
    "print(\"PAYSLIP\".center(100))\n",
    "print(\"WEEK ENDING\", week_end)\n",
    "print(\"Employee:\",emp_name)\n",
    "print(\"Employee Number:\",emp_number)\n",
    "print(\"Earnings\".center(52),\"Deductions\")\n",
    "print(\"Hours       Rate Total  \".center(68))\n",
    "print(\"Hours (normal)\",'{:^18}'.format(str(hours_worked)),hourly_rate,round(total_pay,2),\"       Tax @ 20% \",tax_20)\n",
    "print(\"Hours (overtime)\",'{:^16}'.format(str(overtime_hours_worked)),round(overtime_rate,2),round(overtime_totalpay,2),\"       Tax @ 50% \",tax_50)\n",
    "print(\"\\n\")\n",
    "print(\"Total pay:\".center(52),str(total).center(29))\n",
    "print(\"Total deductions: \".center(60),str(total_deduction).center(15))\n",
    "print(\"Total pay:\".center(52),str(net_pay).center(32))"
   ]
  }
 ],
 "metadata": {
  "kernelspec": {
   "display_name": "Python 3",
   "language": "python",
   "name": "python3"
  },
  "language_info": {
   "codemirror_mode": {
    "name": "ipython",
    "version": 3
   },
   "file_extension": ".py",
   "mimetype": "text/x-python",
   "name": "python",
   "nbconvert_exporter": "python",
   "pygments_lexer": "ipython3",
   "version": "3.8.5"
  }
 },
 "nbformat": 4,
 "nbformat_minor": 4
}
