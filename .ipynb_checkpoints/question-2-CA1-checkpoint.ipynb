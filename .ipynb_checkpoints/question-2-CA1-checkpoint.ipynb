{
 "cells": [
  {
   "cell_type": "code",
   "execution_count": 21,
   "metadata": {},
   "outputs": [
    {
     "name": "stdout",
     "output_type": "stream",
     "text": [
      "#################################\n",
      "WELCOME TO DBS CONSOLE\n",
      "#################################\n",
      "Please enter your username: NCI\\7854656565\n",
      "Domain:  NCI\n",
      "Username:  7854656565\n"
     ]
    }
   ],
   "source": [
    "print(\"#################################\")\n",
    "print(\"WELCOME TO DBS CONSOLE\")\n",
    "print(\"#################################\")\n",
    "username = str(input(\"Please enter your username: \"))\n",
    "\n",
    "split = username.split(\"\\\\\")\n",
    "\n",
    "domain = split[0]\n",
    "username = split[1]\n",
    "\n",
    "print(\"Domain: \",domain)\n",
    "print(\"Username: \", username)"
   ]
  },
  {
   "cell_type": "code",
   "execution_count": null,
   "metadata": {},
   "outputs": [],
   "source": []
  }
 ],
 "metadata": {
  "kernelspec": {
   "display_name": "Python 3",
   "language": "python",
   "name": "python3"
  },
  "language_info": {
   "codemirror_mode": {
    "name": "ipython",
    "version": 3
   },
   "file_extension": ".py",
   "mimetype": "text/x-python",
   "name": "python",
   "nbconvert_exporter": "python",
   "pygments_lexer": "ipython3",
   "version": "3.8.5"
  }
 },
 "nbformat": 4,
 "nbformat_minor": 4
}
